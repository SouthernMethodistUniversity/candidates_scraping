{
 "cells": [
  {
   "cell_type": "code",
   "execution_count": 7,
   "metadata": {},
   "outputs": [],
   "source": [
    "import pandas as pd\n",
    "import numpy as np\n"
   ]
  },
  {
   "cell_type": "code",
   "execution_count": null,
   "metadata": {},
   "outputs": [],
   "source": [
    "dataH = pd.read_excel('2020 Election-1.xlsx',sheet_name='House Wikipedia Data')\n",
    "dataS = pd.read_excel('2020 Election-1.xlsx',sheet_name='Senate Wikipedia Data')"
   ]
  },
  {
   "cell_type": "code",
   "execution_count": null,
   "metadata": {},
   "outputs": [],
   "source": [
    "meetH = dataH[~dataH['BIOGRAPHY PAGE'].isna()&dataH['BIOGRAPHY PAGE'].str.contains('http')]['BIOGRAPHY PAGE'].values"
   ]
  },
  {
   "cell_type": "code",
   "execution_count": null,
   "metadata": {},
   "outputs": [],
   "source": [
    "meetS = dataS[~dataS['BIOGRAPHY PAGE'].isna()&dataS['BIOGRAPHY PAGE'].str.contains('http')]['BIOGRAPHY PAGE'].values"
   ]
  },
  {
   "cell_type": "code",
   "execution_count": null,
   "metadata": {},
   "outputs": [],
   "source": [
    "mainH = dataH[~dataH['MAIN PAGE'].isna()&dataH['MAIN PAGE'].str.contains('http')]['MAIN PAGE'].values"
   ]
  },
  {
   "cell_type": "code",
   "execution_count": null,
   "metadata": {},
   "outputs": [],
   "source": [
    "mainS = dataS[~dataS['MAIN PAGE'].isna()&dataS['MAIN PAGE'].str.contains('http')]['MAIN PAGE'].values"
   ]
  },
  {
   "cell_type": "code",
   "execution_count": null,
   "metadata": {},
   "outputs": [],
   "source": [
    "all_url = np.concatenate((meetH, meetS, mainH, mainS))"
   ]
  },
  {
   "cell_type": "code",
   "execution_count": null,
   "metadata": {},
   "outputs": [],
   "source": [
    "all_url"
   ]
  },
  {
   "cell_type": "code",
   "execution_count": null,
   "metadata": {},
   "outputs": [],
   "source": [
    "with open(\"candidate_url.txt\", \"w\") as txt_file:\n",
    "    for line in all_url:\n",
    "        txt_file.write(\"\".join(line) + \"\\n\") # works with any number of elements in a line\n"
   ]
  },
  {
   "cell_type": "code",
   "execution_count": null,
   "metadata": {},
   "outputs": [],
   "source": []
  }
 ],
 "metadata": {
  "kernelspec": {
   "display_name": "Python 3",
   "language": "python",
   "name": "python3"
  },
  "language_info": {
   "codemirror_mode": {
    "name": "ipython",
    "version": 3
   },
   "file_extension": ".py",
   "mimetype": "text/x-python",
   "name": "python",
   "nbconvert_exporter": "python",
   "pygments_lexer": "ipython3",
   "version": "3.6.9"
  }
 },
 "nbformat": 4,
 "nbformat_minor": 4
}
